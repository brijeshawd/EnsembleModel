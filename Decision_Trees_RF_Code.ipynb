{
  "nbformat": 4,
  "nbformat_minor": 0,
  "metadata": {
    "colab": {
      "provenance": []
    },
    "kernelspec": {
      "name": "python3",
      "display_name": "Python 3"
    },
    "language_info": {
      "name": "python"
    },
    "accelerator": "GPU",
    "gpuClass": "standard"
  },
  "cells": [
    {
      "cell_type": "code",
      "execution_count": 1,
      "metadata": {
        "id": "5JrIfb5xBVXI"
      },
      "outputs": [],
      "source": [
        "import numpy as np\n",
        "import pandas as pd\n",
        "import matplotlib.pyplot as plt"
      ]
    },
    {
      "cell_type": "code",
      "source": [
        "!gdown 12G_J8gBel8MpspdXJruZuuMvyrm9upNb\n",
        "!gdown 1-zjfYbZm8JC4wog9tG4zltMPuZM6p9_A\n",
        "\n",
        "\n",
        "!gdown 1p03Ltdto8XoOdu14YlcQjzE-360SyI89\n",
        "!gdown 1mNcWfaEW19ql8WCih6HiqRryCcjFUUqx"
      ],
      "metadata": {
        "colab": {
          "base_uri": "https://localhost:8080/"
        },
        "id": "ggIMZaetBjAR",
        "outputId": "613c6154-28b0-40f5-9bd1-e80da8ece526"
      },
      "execution_count": 2,
      "outputs": [
        {
          "output_type": "stream",
          "name": "stdout",
          "text": [
            "Downloading...\n",
            "From: https://drive.google.com/uc?id=12G_J8gBel8MpspdXJruZuuMvyrm9upNb\n",
            "To: /content/X_test.csv\n",
            "100% 51.7k/51.7k [00:00<00:00, 23.9MB/s]\n",
            "Downloading...\n",
            "From: https://drive.google.com/uc?id=1-zjfYbZm8JC4wog9tG4zltMPuZM6p9_A\n",
            "To: /content/X_train.csv\n",
            "100% 154k/154k [00:00<00:00, 72.0MB/s]\n",
            "Downloading...\n",
            "From: https://drive.google.com/uc?id=1p03Ltdto8XoOdu14YlcQjzE-360SyI89\n",
            "To: /content/y_test.csv\n",
            "100% 743/743 [00:00<00:00, 804kB/s]\n",
            "Downloading...\n",
            "From: https://drive.google.com/uc?id=1mNcWfaEW19ql8WCih6HiqRryCcjFUUqx\n",
            "To: /content/y_train.csv\n",
            "100% 2.21k/2.21k [00:00<00:00, 2.91MB/s]\n"
          ]
        }
      ]
    },
    {
      "cell_type": "code",
      "source": [
        "X_train = pd.read_csv('X_train.csv')\n",
        "X_test = pd.read_csv('X_test.csv')\n",
        "y_train = pd.read_csv('y_train.csv')\n",
        "y_test = pd.read_csv('y_test.csv')"
      ],
      "metadata": {
        "id": "18FOoEVWB47g"
      },
      "execution_count": 3,
      "outputs": []
    },
    {
      "cell_type": "code",
      "source": [
        "X_train.head()"
      ],
      "metadata": {
        "colab": {
          "base_uri": "https://localhost:8080/",
          "height": 317
        },
        "id": "dzLgy0VWCDCI",
        "outputId": "afa9f06e-7a3e-4c84-c33c-d66044caa6ee"
      },
      "execution_count": 4,
      "outputs": [
        {
          "output_type": "execute_result",
          "data": {
            "text/plain": [
              "   Age  DailyRate  DistanceFromHome  Education  EducationField  \\\n",
              "0   36       1174                 3          4        0.233871   \n",
              "1   21        546                 5          1        0.127479   \n",
              "2   43        422                 1          3        0.151584   \n",
              "3   42        188                29          3        0.127479   \n",
              "4   35        992                 1          3        0.127479   \n",
              "\n",
              "   EnvironmentSatisfaction  Gender  HourlyRate  JobInvolvement  JobLevel  ...  \\\n",
              "0                        1       0          99               3         2  ...   \n",
              "1                        3       1          97               3         1  ...   \n",
              "2                        4       0          33               3         2  ...   \n",
              "3                        2       1          56               1         2  ...   \n",
              "4                        4       1          68               2         1  ...   \n",
              "\n",
              "   YearsWithCurrManager  BusinessTravel_Non-Travel  \\\n",
              "0                     1                        0.0   \n",
              "1                     2                        0.0   \n",
              "2                     2                        0.0   \n",
              "3                     0                        0.0   \n",
              "4                     2                        0.0   \n",
              "\n",
              "   BusinessTravel_Travel_Frequently  BusinessTravel_Travel_Rarely  \\\n",
              "0                               0.0                           1.0   \n",
              "1                               0.0                           1.0   \n",
              "2                               1.0                           0.0   \n",
              "3                               0.0                           1.0   \n",
              "4                               0.0                           1.0   \n",
              "\n",
              "   Department_Human Resources  Department_Research & Development  \\\n",
              "0                         0.0                                0.0   \n",
              "1                         0.0                                1.0   \n",
              "2                         0.0                                1.0   \n",
              "3                         0.0                                1.0   \n",
              "4                         0.0                                1.0   \n",
              "\n",
              "   Department_Sales  MaritalStatus_Divorced  MaritalStatus_Married  \\\n",
              "0               1.0                     0.0                    0.0   \n",
              "1               0.0                     0.0                    0.0   \n",
              "2               0.0                     0.0                    1.0   \n",
              "3               0.0                     0.0                    0.0   \n",
              "4               0.0                     0.0                    0.0   \n",
              "\n",
              "   MaritalStatus_Single  \n",
              "0                   1.0  \n",
              "1                   1.0  \n",
              "2                   0.0  \n",
              "3                   1.0  \n",
              "4                   1.0  \n",
              "\n",
              "[5 rows x 36 columns]"
            ],
            "text/html": [
              "\n",
              "  <div id=\"df-ff8e237e-3f3f-4db8-87e6-70425c72703a\">\n",
              "    <div class=\"colab-df-container\">\n",
              "      <div>\n",
              "<style scoped>\n",
              "    .dataframe tbody tr th:only-of-type {\n",
              "        vertical-align: middle;\n",
              "    }\n",
              "\n",
              "    .dataframe tbody tr th {\n",
              "        vertical-align: top;\n",
              "    }\n",
              "\n",
              "    .dataframe thead th {\n",
              "        text-align: right;\n",
              "    }\n",
              "</style>\n",
              "<table border=\"1\" class=\"dataframe\">\n",
              "  <thead>\n",
              "    <tr style=\"text-align: right;\">\n",
              "      <th></th>\n",
              "      <th>Age</th>\n",
              "      <th>DailyRate</th>\n",
              "      <th>DistanceFromHome</th>\n",
              "      <th>Education</th>\n",
              "      <th>EducationField</th>\n",
              "      <th>EnvironmentSatisfaction</th>\n",
              "      <th>Gender</th>\n",
              "      <th>HourlyRate</th>\n",
              "      <th>JobInvolvement</th>\n",
              "      <th>JobLevel</th>\n",
              "      <th>...</th>\n",
              "      <th>YearsWithCurrManager</th>\n",
              "      <th>BusinessTravel_Non-Travel</th>\n",
              "      <th>BusinessTravel_Travel_Frequently</th>\n",
              "      <th>BusinessTravel_Travel_Rarely</th>\n",
              "      <th>Department_Human Resources</th>\n",
              "      <th>Department_Research &amp; Development</th>\n",
              "      <th>Department_Sales</th>\n",
              "      <th>MaritalStatus_Divorced</th>\n",
              "      <th>MaritalStatus_Married</th>\n",
              "      <th>MaritalStatus_Single</th>\n",
              "    </tr>\n",
              "  </thead>\n",
              "  <tbody>\n",
              "    <tr>\n",
              "      <th>0</th>\n",
              "      <td>36</td>\n",
              "      <td>1174</td>\n",
              "      <td>3</td>\n",
              "      <td>4</td>\n",
              "      <td>0.233871</td>\n",
              "      <td>1</td>\n",
              "      <td>0</td>\n",
              "      <td>99</td>\n",
              "      <td>3</td>\n",
              "      <td>2</td>\n",
              "      <td>...</td>\n",
              "      <td>1</td>\n",
              "      <td>0.0</td>\n",
              "      <td>0.0</td>\n",
              "      <td>1.0</td>\n",
              "      <td>0.0</td>\n",
              "      <td>0.0</td>\n",
              "      <td>1.0</td>\n",
              "      <td>0.0</td>\n",
              "      <td>0.0</td>\n",
              "      <td>1.0</td>\n",
              "    </tr>\n",
              "    <tr>\n",
              "      <th>1</th>\n",
              "      <td>21</td>\n",
              "      <td>546</td>\n",
              "      <td>5</td>\n",
              "      <td>1</td>\n",
              "      <td>0.127479</td>\n",
              "      <td>3</td>\n",
              "      <td>1</td>\n",
              "      <td>97</td>\n",
              "      <td>3</td>\n",
              "      <td>1</td>\n",
              "      <td>...</td>\n",
              "      <td>2</td>\n",
              "      <td>0.0</td>\n",
              "      <td>0.0</td>\n",
              "      <td>1.0</td>\n",
              "      <td>0.0</td>\n",
              "      <td>1.0</td>\n",
              "      <td>0.0</td>\n",
              "      <td>0.0</td>\n",
              "      <td>0.0</td>\n",
              "      <td>1.0</td>\n",
              "    </tr>\n",
              "    <tr>\n",
              "      <th>2</th>\n",
              "      <td>43</td>\n",
              "      <td>422</td>\n",
              "      <td>1</td>\n",
              "      <td>3</td>\n",
              "      <td>0.151584</td>\n",
              "      <td>4</td>\n",
              "      <td>0</td>\n",
              "      <td>33</td>\n",
              "      <td>3</td>\n",
              "      <td>2</td>\n",
              "      <td>...</td>\n",
              "      <td>2</td>\n",
              "      <td>0.0</td>\n",
              "      <td>1.0</td>\n",
              "      <td>0.0</td>\n",
              "      <td>0.0</td>\n",
              "      <td>1.0</td>\n",
              "      <td>0.0</td>\n",
              "      <td>0.0</td>\n",
              "      <td>1.0</td>\n",
              "      <td>0.0</td>\n",
              "    </tr>\n",
              "    <tr>\n",
              "      <th>3</th>\n",
              "      <td>42</td>\n",
              "      <td>188</td>\n",
              "      <td>29</td>\n",
              "      <td>3</td>\n",
              "      <td>0.127479</td>\n",
              "      <td>2</td>\n",
              "      <td>1</td>\n",
              "      <td>56</td>\n",
              "      <td>1</td>\n",
              "      <td>2</td>\n",
              "      <td>...</td>\n",
              "      <td>0</td>\n",
              "      <td>0.0</td>\n",
              "      <td>0.0</td>\n",
              "      <td>1.0</td>\n",
              "      <td>0.0</td>\n",
              "      <td>1.0</td>\n",
              "      <td>0.0</td>\n",
              "      <td>0.0</td>\n",
              "      <td>0.0</td>\n",
              "      <td>1.0</td>\n",
              "    </tr>\n",
              "    <tr>\n",
              "      <th>4</th>\n",
              "      <td>35</td>\n",
              "      <td>992</td>\n",
              "      <td>1</td>\n",
              "      <td>3</td>\n",
              "      <td>0.127479</td>\n",
              "      <td>4</td>\n",
              "      <td>1</td>\n",
              "      <td>68</td>\n",
              "      <td>2</td>\n",
              "      <td>1</td>\n",
              "      <td>...</td>\n",
              "      <td>2</td>\n",
              "      <td>0.0</td>\n",
              "      <td>0.0</td>\n",
              "      <td>1.0</td>\n",
              "      <td>0.0</td>\n",
              "      <td>1.0</td>\n",
              "      <td>0.0</td>\n",
              "      <td>0.0</td>\n",
              "      <td>0.0</td>\n",
              "      <td>1.0</td>\n",
              "    </tr>\n",
              "  </tbody>\n",
              "</table>\n",
              "<p>5 rows × 36 columns</p>\n",
              "</div>\n",
              "      <button class=\"colab-df-convert\" onclick=\"convertToInteractive('df-ff8e237e-3f3f-4db8-87e6-70425c72703a')\"\n",
              "              title=\"Convert this dataframe to an interactive table.\"\n",
              "              style=\"display:none;\">\n",
              "        \n",
              "  <svg xmlns=\"http://www.w3.org/2000/svg\" height=\"24px\"viewBox=\"0 0 24 24\"\n",
              "       width=\"24px\">\n",
              "    <path d=\"M0 0h24v24H0V0z\" fill=\"none\"/>\n",
              "    <path d=\"M18.56 5.44l.94 2.06.94-2.06 2.06-.94-2.06-.94-.94-2.06-.94 2.06-2.06.94zm-11 1L8.5 8.5l.94-2.06 2.06-.94-2.06-.94L8.5 2.5l-.94 2.06-2.06.94zm10 10l.94 2.06.94-2.06 2.06-.94-2.06-.94-.94-2.06-.94 2.06-2.06.94z\"/><path d=\"M17.41 7.96l-1.37-1.37c-.4-.4-.92-.59-1.43-.59-.52 0-1.04.2-1.43.59L10.3 9.45l-7.72 7.72c-.78.78-.78 2.05 0 2.83L4 21.41c.39.39.9.59 1.41.59.51 0 1.02-.2 1.41-.59l7.78-7.78 2.81-2.81c.8-.78.8-2.07 0-2.86zM5.41 20L4 18.59l7.72-7.72 1.47 1.35L5.41 20z\"/>\n",
              "  </svg>\n",
              "      </button>\n",
              "      \n",
              "  <style>\n",
              "    .colab-df-container {\n",
              "      display:flex;\n",
              "      flex-wrap:wrap;\n",
              "      gap: 12px;\n",
              "    }\n",
              "\n",
              "    .colab-df-convert {\n",
              "      background-color: #E8F0FE;\n",
              "      border: none;\n",
              "      border-radius: 50%;\n",
              "      cursor: pointer;\n",
              "      display: none;\n",
              "      fill: #1967D2;\n",
              "      height: 32px;\n",
              "      padding: 0 0 0 0;\n",
              "      width: 32px;\n",
              "    }\n",
              "\n",
              "    .colab-df-convert:hover {\n",
              "      background-color: #E2EBFA;\n",
              "      box-shadow: 0px 1px 2px rgba(60, 64, 67, 0.3), 0px 1px 3px 1px rgba(60, 64, 67, 0.15);\n",
              "      fill: #174EA6;\n",
              "    }\n",
              "\n",
              "    [theme=dark] .colab-df-convert {\n",
              "      background-color: #3B4455;\n",
              "      fill: #D2E3FC;\n",
              "    }\n",
              "\n",
              "    [theme=dark] .colab-df-convert:hover {\n",
              "      background-color: #434B5C;\n",
              "      box-shadow: 0px 1px 3px 1px rgba(0, 0, 0, 0.15);\n",
              "      filter: drop-shadow(0px 1px 2px rgba(0, 0, 0, 0.3));\n",
              "      fill: #FFFFFF;\n",
              "    }\n",
              "  </style>\n",
              "\n",
              "      <script>\n",
              "        const buttonEl =\n",
              "          document.querySelector('#df-ff8e237e-3f3f-4db8-87e6-70425c72703a button.colab-df-convert');\n",
              "        buttonEl.style.display =\n",
              "          google.colab.kernel.accessAllowed ? 'block' : 'none';\n",
              "\n",
              "        async function convertToInteractive(key) {\n",
              "          const element = document.querySelector('#df-ff8e237e-3f3f-4db8-87e6-70425c72703a');\n",
              "          const dataTable =\n",
              "            await google.colab.kernel.invokeFunction('convertToInteractive',\n",
              "                                                     [key], {});\n",
              "          if (!dataTable) return;\n",
              "\n",
              "          const docLinkHtml = 'Like what you see? Visit the ' +\n",
              "            '<a target=\"_blank\" href=https://colab.research.google.com/notebooks/data_table.ipynb>data table notebook</a>'\n",
              "            + ' to learn more about interactive tables.';\n",
              "          element.innerHTML = '';\n",
              "          dataTable['output_type'] = 'display_data';\n",
              "          await google.colab.output.renderOutput(dataTable, element);\n",
              "          const docLink = document.createElement('div');\n",
              "          docLink.innerHTML = docLinkHtml;\n",
              "          element.appendChild(docLink);\n",
              "        }\n",
              "      </script>\n",
              "    </div>\n",
              "  </div>\n",
              "  "
            ]
          },
          "metadata": {},
          "execution_count": 4
        }
      ]
    },
    {
      "cell_type": "code",
      "source": [
        "X_train.shape"
      ],
      "metadata": {
        "colab": {
          "base_uri": "https://localhost:8080/"
        },
        "id": "p05lHpgICG0G",
        "outputId": "916ada7a-04d9-4a95-d941-413a4d8b4f83"
      },
      "execution_count": 5,
      "outputs": [
        {
          "output_type": "execute_result",
          "data": {
            "text/plain": [
              "(1102, 36)"
            ]
          },
          "metadata": {},
          "execution_count": 5
        }
      ]
    },
    {
      "cell_type": "code",
      "source": [
        "X_test.shape"
      ],
      "metadata": {
        "colab": {
          "base_uri": "https://localhost:8080/"
        },
        "id": "t2fqecXoCPkM",
        "outputId": "23412a76-5794-4275-d6ac-601119113f90"
      },
      "execution_count": 6,
      "outputs": [
        {
          "output_type": "execute_result",
          "data": {
            "text/plain": [
              "(368, 36)"
            ]
          },
          "metadata": {},
          "execution_count": 6
        }
      ]
    },
    {
      "cell_type": "code",
      "source": [
        "y_train.value_counts(normalize=True)"
      ],
      "metadata": {
        "colab": {
          "base_uri": "https://localhost:8080/"
        },
        "id": "yQRj4PL4CRMr",
        "outputId": "38cf69c5-8fb5-4747-ce6f-a2bd6d11e666"
      },
      "execution_count": 7,
      "outputs": [
        {
          "output_type": "execute_result",
          "data": {
            "text/plain": [
              "Target\n",
              "0         0.838475\n",
              "1         0.161525\n",
              "dtype: float64"
            ]
          },
          "metadata": {},
          "execution_count": 7
        }
      ]
    },
    {
      "cell_type": "code",
      "source": [
        "from imblearn.over_sampling import SMOTE\n",
        "sm = SMOTE()\n",
        "\n",
        "X_sm, y_sm = sm.fit_resample(X_train, y_train)"
      ],
      "metadata": {
        "id": "q6M2IneWCVFA"
      },
      "execution_count": 8,
      "outputs": []
    },
    {
      "cell_type": "code",
      "source": [
        "y_sm.shape"
      ],
      "metadata": {
        "colab": {
          "base_uri": "https://localhost:8080/"
        },
        "id": "Gi4M6MDACmcw",
        "outputId": "252421b7-127f-4abc-c421-da6d6e766715"
      },
      "execution_count": 9,
      "outputs": [
        {
          "output_type": "execute_result",
          "data": {
            "text/plain": [
              "(1848, 1)"
            ]
          },
          "metadata": {},
          "execution_count": 9
        }
      ]
    },
    {
      "cell_type": "code",
      "source": [
        "y_sm.value_counts(normalize=True)"
      ],
      "metadata": {
        "colab": {
          "base_uri": "https://localhost:8080/"
        },
        "id": "FuXdptIoCorm",
        "outputId": "01986000-f500-4585-97bc-dd2eec74107a"
      },
      "execution_count": 10,
      "outputs": [
        {
          "output_type": "execute_result",
          "data": {
            "text/plain": [
              "Target\n",
              "0         0.5\n",
              "1         0.5\n",
              "dtype: float64"
            ]
          },
          "metadata": {},
          "execution_count": 10
        }
      ]
    },
    {
      "cell_type": "markdown",
      "source": [
        "# sklearn decision tree"
      ],
      "metadata": {
        "id": "CiFTPXDkDGKT"
      }
    },
    {
      "cell_type": "code",
      "source": [
        "from sklearn.tree import DecisionTreeClassifier"
      ],
      "metadata": {
        "id": "rbyJy0-EDF_g"
      },
      "execution_count": 11,
      "outputs": []
    },
    {
      "cell_type": "code",
      "source": [
        "train_acc = []\n",
        "test_acc = []"
      ],
      "metadata": {
        "id": "x3M8A0QIXaxc"
      },
      "execution_count": 12,
      "outputs": []
    },
    {
      "cell_type": "code",
      "source": [
        "for depth in range(2, 20):\n",
        "    model = DecisionTreeClassifier(criterion='entropy', max_depth=depth)\n",
        "    model.fit(X_sm, y_sm)\n",
        "\n",
        "    tr_acc = model.score(X_sm, y_sm)    \n",
        "    te_acc = model.score(X_test, y_test)\n",
        "\n",
        "    train_acc.append(tr_acc)\n",
        "    test_acc.append(te_acc)"
      ],
      "metadata": {
        "id": "ASdlXdc-Cqg3"
      },
      "execution_count": 13,
      "outputs": []
    },
    {
      "cell_type": "code",
      "source": [
        "plt.plot(train_acc)\n",
        "plt.plot(test_acc)"
      ],
      "metadata": {
        "colab": {
          "base_uri": "https://localhost:8080/",
          "height": 283
        },
        "id": "eK01Fa13YAB6",
        "outputId": "1c4c17b1-dd29-4cfe-bd0f-30ce1be6e89c"
      },
      "execution_count": 14,
      "outputs": [
        {
          "output_type": "execute_result",
          "data": {
            "text/plain": [
              "[<matplotlib.lines.Line2D at 0x7ff8751558e0>]"
            ]
          },
          "metadata": {},
          "execution_count": 14
        },
        {
          "output_type": "display_data",
          "data": {
            "text/plain": [
              "<Figure size 432x288 with 1 Axes>"
            ],
            "image/png": "[encoded data removed]"
          },
          "metadata": {
            "needs_background": "light"
          }
        }
      ]
    },
    {
      "cell_type": "code",
      "source": [
        "test_acc[:5]"
      ],
      "metadata": {
        "colab": {
          "base_uri": "https://localhost:8080/"
        },
        "id": "gwIBDqIxYStn",
        "outputId": "d44d70de-18d0-4148-98f4-89c1bad002c4"
      },
      "execution_count": 15,
      "outputs": [
        {
          "output_type": "execute_result",
          "data": {
            "text/plain": [
              "[0.8396739130434783,\n",
              " 0.6739130434782609,\n",
              " 0.6766304347826086,\n",
              " 0.7635869565217391,\n",
              " 0.7635869565217391]"
            ]
          },
          "metadata": {},
          "execution_count": 15
        }
      ]
    },
    {
      "cell_type": "code",
      "source": [
        "model = DecisionTreeClassifier(criterion='entropy', max_depth=4)\n",
        "model.fit(X_sm, y_sm)"
      ],
      "metadata": {
        "colab": {
          "base_uri": "https://localhost:8080/"
        },
        "id": "DoHfztOCDinZ",
        "outputId": "0c4d6691-5840-4338-995a-bf5cf62c6726"
      },
      "execution_count": 16,
      "outputs": [
        {
          "output_type": "execute_result",
          "data": {
            "text/plain": [
              "DecisionTreeClassifier(criterion='entropy', max_depth=4)"
            ]
          },
          "metadata": {},
          "execution_count": 16
        }
      ]
    },
    {
      "cell_type": "code",
      "source": [
        "model.score(X_test, y_test)"
      ],
      "metadata": {
        "colab": {
          "base_uri": "https://localhost:8080/"
        },
        "id": "fdXUQ2TiDlEI",
        "outputId": "f264beee-7262-4109-c18d-1ab680dda509"
      },
      "execution_count": 17,
      "outputs": [
        {
          "output_type": "execute_result",
          "data": {
            "text/plain": [
              "0.6766304347826086"
            ]
          },
          "metadata": {},
          "execution_count": 17
        }
      ]
    },
    {
      "cell_type": "code",
      "source": [
        "model.score(X_sm, y_sm)"
      ],
      "metadata": {
        "colab": {
          "base_uri": "https://localhost:8080/"
        },
        "id": "fYj9AJQyDr_-",
        "outputId": "0096e512-1273-435a-c1e7-52e39f226a9e"
      },
      "execution_count": 18,
      "outputs": [
        {
          "output_type": "execute_result",
          "data": {
            "text/plain": [
              "0.8073593073593074"
            ]
          },
          "metadata": {},
          "execution_count": 18
        }
      ]
    },
    {
      "cell_type": "code",
      "source": [
        "# graphviz\n",
        "\n",
        "from sklearn.tree import plot_tree\n",
        "plt.figure(figsize=(14,14))\n",
        "plot_tree(model, max_depth=2, filled = True);"
      ],
      "metadata": {
        "colab": {
          "base_uri": "https://localhost:8080/",
          "height": 792
        },
        "id": "GdsD4PcQDzsU",
        "outputId": "ccae33c1-e7df-4b76-bfea-c9c58ab90b50"
      },
      "execution_count": 19,
      "outputs": [
        {
          "output_type": "display_data",
          "data": {
            "text/plain": [
              "<Figure size 1008x1008 with 1 Axes>"
            ],
            "image/png": "[encoded data removed]"
          },
          "metadata": {
            "needs_background": "light"
          }
        }
      ]
    },
    {
      "cell_type": "code",
      "source": [
        "importances = model.feature_importances_\n",
        "importances"
      ],
      "metadata": {
        "id": "AvGmCBpzEgZ1",
        "colab": {
          "base_uri": "https://localhost:8080/"
        },
        "outputId": "b7adbd11-3ceb-4a6c-b623-0a92a669b914"
      },
      "execution_count": 20,
      "outputs": [
        {
          "output_type": "execute_result",
          "data": {
            "text/plain": [
              "array([0.00842303, 0.        , 0.00821454, 0.        , 0.        ,\n",
              "       0.        , 0.        , 0.        , 0.06768657, 0.        ,\n",
              "       0.15426909, 0.05429143, 0.        , 0.        , 0.        ,\n",
              "       0.        , 0.02124554, 0.        , 0.        , 0.02577176,\n",
              "       0.        , 0.        , 0.        , 0.        , 0.02729801,\n",
              "       0.01154039, 0.        , 0.        , 0.        , 0.        ,\n",
              "       0.        , 0.        , 0.        , 0.        , 0.        ,\n",
              "       0.62125964])"
            ]
          },
          "metadata": {},
          "execution_count": 20
        }
      ]
    },
    {
      "cell_type": "code",
      "source": [
        "names = X_train.columns"
      ],
      "metadata": {
        "id": "U2gU1Yy8eET9"
      },
      "execution_count": 21,
      "outputs": []
    },
    {
      "cell_type": "code",
      "source": [
        "indices = np.argsort(importances)[::-1]\n",
        "indices"
      ],
      "metadata": {
        "colab": {
          "base_uri": "https://localhost:8080/"
        },
        "id": "u50T-dXTepRW",
        "outputId": "118d2928-cddd-4e25-e8b7-33419ac82bad"
      },
      "execution_count": 22,
      "outputs": [
        {
          "output_type": "execute_result",
          "data": {
            "text/plain": [
              "array([35, 10,  8, 11, 24, 19, 16, 25,  0,  2, 26, 12,  1,  3,  4,  5,  6,\n",
              "        7, 33,  9, 32, 31, 13, 27, 14, 15, 30, 34, 18, 29, 20, 21, 22, 23,\n",
              "       28, 17])"
            ]
          },
          "metadata": {},
          "execution_count": 22
        }
      ]
    },
    {
      "cell_type": "code",
      "source": [
        "names[indices]"
      ],
      "metadata": {
        "colab": {
          "base_uri": "https://localhost:8080/"
        },
        "id": "qyNzSjUXe-3b",
        "outputId": "dbcc4f58-732d-4b86-887e-7fb322eedca4"
      },
      "execution_count": 23,
      "outputs": [
        {
          "output_type": "execute_result",
          "data": {
            "text/plain": [
              "Index(['MaritalStatus_Single', 'JobRole', 'JobInvolvement', 'JobSatisfaction',\n",
              "       'YearsInCurrentRole', 'StockOptionLevel', 'PercentSalaryHike',\n",
              "       'YearsSinceLastPromotion', 'Age', 'DistanceFromHome',\n",
              "       'YearsWithCurrManager', 'MonthlyIncome', 'DailyRate', 'Education',\n",
              "       'EducationField', 'EnvironmentSatisfaction', 'Gender', 'HourlyRate',\n",
              "       'MaritalStatus_Divorced', 'JobLevel', 'Department_Sales',\n",
              "       'Department_Research & Development', 'MonthlyRate',\n",
              "       'BusinessTravel_Non-Travel', 'NumCompaniesWorked', 'OverTime',\n",
              "       'Department_Human Resources', 'MaritalStatus_Married',\n",
              "       'RelationshipSatisfaction', 'BusinessTravel_Travel_Rarely',\n",
              "       'TotalWorkingYears', 'TrainingTimesLastYear', 'WorkLifeBalance',\n",
              "       'YearsAtCompany', 'BusinessTravel_Travel_Frequently',\n",
              "       'PerformanceRating'],\n",
              "      dtype='object')"
            ]
          },
          "metadata": {},
          "execution_count": 23
        }
      ]
    },
    {
      "cell_type": "code",
      "source": [
        "plt.figure(figsize=(15, 7))\n",
        "plt.bar(range(len(X_train.columns)), importances[indices])\n",
        "plt.xticks(range(len(X_train.columns)),names[indices], rotation = 90 )\n",
        "plt.show()"
      ],
      "metadata": {
        "colab": {
          "base_uri": "https://localhost:8080/",
          "height": 611
        },
        "id": "WzqV3ZXofQAV",
        "outputId": "5b1891a3-89bc-4055-af15-38abf7010e7d"
      },
      "execution_count": 24,
      "outputs": [
        {
          "output_type": "display_data",
          "data": {
            "text/plain": [
              "<Figure size 1080x504 with 1 Axes>"
            ],
            "image/png": "[encoded data removed]"
          },
          "metadata": {
            "needs_background": "light"
          }
        }
      ]
    },
    {
      "cell_type": "code",
      "source": [],
      "metadata": {
        "id": "m4VTBxLbf1i3"
      },
      "execution_count": 25,
      "outputs": []
    },
    {
      "cell_type": "markdown",
      "source": [
        "# RandomForest"
      ],
      "metadata": {
        "id": "qTOGbKKJ7knJ"
      }
    },
    {
      "cell_type": "code",
      "source": [
        "from sklearn.ensemble import RandomForestClassifier"
      ],
      "metadata": {
        "id": "bfV3CrGwgwYB"
      },
      "execution_count": 26,
      "outputs": []
    },
    {
      "cell_type": "code",
      "source": [
        "rfc = RandomForestClassifier(n_estimators=300, max_depth = 7, ccp_alpha= 0.001)"
      ],
      "metadata": {
        "id": "wCxhPpmN7sdS"
      },
      "execution_count": 77,
      "outputs": []
    },
    {
      "cell_type": "code",
      "source": [
        "from sklearn.model_selection import cross_val_score, cross_validate"
      ],
      "metadata": {
        "id": "usOHaHIT8GOw"
      },
      "execution_count": 78,
      "outputs": []
    },
    {
      "cell_type": "code",
      "source": [
        "results = cross_validate(rfc, X_sm, y_sm, scoring='accuracy', cv=10, return_train_score=True )"
      ],
      "metadata": {
        "colab": {
          "base_uri": "https://localhost:8080/"
        },
        "id": "WGw5Mv_f8tb2",
        "outputId": "72be1583-c7ce-4cff-d9a8-f5f86b0706f0"
      },
      "execution_count": 79,
      "outputs": [
        {
          "output_type": "stream",
          "name": "stderr",
          "text": [
            "/usr/local/lib/python3.8/dist-packages/sklearn/model_selection/_validation.py:680: DataConversionWarning: A column-vector y was passed when a 1d array was expected. Please change the shape of y to (n_samples,), for example using ravel().\n",
            "  estimator.fit(X_train, y_train, **fit_params)\n",
            "/usr/local/lib/python3.8/dist-packages/sklearn/model_selection/_validation.py:680: DataConversionWarning: A column-vector y was passed when a 1d array was expected. Please change the shape of y to (n_samples,), for example using ravel().\n",
            "  estimator.fit(X_train, y_train, **fit_params)\n",
            "/usr/local/lib/python3.8/dist-packages/sklearn/model_selection/_validation.py:680: DataConversionWarning: A column-vector y was passed when a 1d array was expected. Please change the shape of y to (n_samples,), for example using ravel().\n",
            "  estimator.fit(X_train, y_train, **fit_params)\n",
            "/usr/local/lib/python3.8/dist-packages/sklearn/model_selection/_validation.py:680: DataConversionWarning: A column-vector y was passed when a 1d array was expected. Please change the shape of y to (n_samples,), for example using ravel().\n",
            "  estimator.fit(X_train, y_train, **fit_params)\n",
            "/usr/local/lib/python3.8/dist-packages/sklearn/model_selection/_validation.py:680: DataConversionWarning: A column-vector y was passed when a 1d array was expected. Please change the shape of y to (n_samples,), for example using ravel().\n",
            "  estimator.fit(X_train, y_train, **fit_params)\n",
            "/usr/local/lib/python3.8/dist-packages/sklearn/model_selection/_validation.py:680: DataConversionWarning: A column-vector y was passed when a 1d array was expected. Please change the shape of y to (n_samples,), for example using ravel().\n",
            "  estimator.fit(X_train, y_train, **fit_params)\n",
            "/usr/local/lib/python3.8/dist-packages/sklearn/model_selection/_validation.py:680: DataConversionWarning: A column-vector y was passed when a 1d array was expected. Please change the shape of y to (n_samples,), for example using ravel().\n",
            "  estimator.fit(X_train, y_train, **fit_params)\n",
            "/usr/local/lib/python3.8/dist-packages/sklearn/model_selection/_validation.py:680: DataConversionWarning: A column-vector y was passed when a 1d array was expected. Please change the shape of y to (n_samples,), for example using ravel().\n",
            "  estimator.fit(X_train, y_train, **fit_params)\n",
            "/usr/local/lib/python3.8/dist-packages/sklearn/model_selection/_validation.py:680: DataConversionWarning: A column-vector y was passed when a 1d array was expected. Please change the shape of y to (n_samples,), for example using ravel().\n",
            "  estimator.fit(X_train, y_train, **fit_params)\n",
            "/usr/local/lib/python3.8/dist-packages/sklearn/model_selection/_validation.py:680: DataConversionWarning: A column-vector y was passed when a 1d array was expected. Please change the shape of y to (n_samples,), for example using ravel().\n",
            "  estimator.fit(X_train, y_train, **fit_params)\n"
          ]
        }
      ]
    },
    {
      "cell_type": "code",
      "source": [
        "results['train_score'].mean()"
      ],
      "metadata": {
        "colab": {
          "base_uri": "https://localhost:8080/"
        },
        "id": "beGS9uoG8NvU",
        "outputId": "f013b7c6-c0ba-42e4-e00b-8ed7bab8b101"
      },
      "execution_count": 80,
      "outputs": [
        {
          "output_type": "execute_result",
          "data": {
            "text/plain": [
              "0.9593555581895554"
            ]
          },
          "metadata": {},
          "execution_count": 80
        }
      ]
    },
    {
      "cell_type": "code",
      "source": [
        "results['test_score'].mean()"
      ],
      "metadata": {
        "colab": {
          "base_uri": "https://localhost:8080/"
        },
        "id": "zrz76xBa8aqH",
        "outputId": "8f5a69ba-790c-4671-b696-20b9688e74aa"
      },
      "execution_count": 81,
      "outputs": [
        {
          "output_type": "execute_result",
          "data": {
            "text/plain": [
              "0.8999676850763807"
            ]
          },
          "metadata": {},
          "execution_count": 81
        }
      ]
    },
    {
      "cell_type": "code",
      "source": [
        "rfc.fit(X_sm, y_sm)"
      ],
      "metadata": {
        "colab": {
          "base_uri": "https://localhost:8080/"
        },
        "id": "81zBDwAb8mGn",
        "outputId": "5081054f-0dc5-499e-ddf8-7c757620ae4a"
      },
      "execution_count": 66,
      "outputs": [
        {
          "output_type": "stream",
          "name": "stderr",
          "text": [
            "<ipython-input-66-e9ffe1ee58d4>:1: DataConversionWarning: A column-vector y was passed when a 1d array was expected. Please change the shape of y to (n_samples,), for example using ravel().\n",
            "  rfc.fit(X_sm, y_sm)\n"
          ]
        },
        {
          "output_type": "execute_result",
          "data": {
            "text/plain": [
              "RandomForestClassifier(max_depth=7, n_estimators=300)"
            ]
          },
          "metadata": {},
          "execution_count": 66
        }
      ]
    },
    {
      "cell_type": "code",
      "source": [
        "rfc.estimators_[:5]"
      ],
      "metadata": {
        "colab": {
          "base_uri": "https://localhost:8080/"
        },
        "id": "jIwIqugM9__K",
        "outputId": "b99a235a-ab46-4041-ead4-8d350d0d4bb0"
      },
      "execution_count": 68,
      "outputs": [
        {
          "output_type": "execute_result",
          "data": {
            "text/plain": [
              "[DecisionTreeClassifier(max_depth=7, max_features='auto',\n",
              "                        random_state=1047849819),\n",
              " DecisionTreeClassifier(max_depth=7, max_features='auto', random_state=969689503),\n",
              " DecisionTreeClassifier(max_depth=7, max_features='auto', random_state=556156683),\n",
              " DecisionTreeClassifier(max_depth=7, max_features='auto',\n",
              "                        random_state=1212298413),\n",
              " DecisionTreeClassifier(max_depth=7, max_features='auto',\n",
              "                        random_state=1346762697)]"
            ]
          },
          "metadata": {},
          "execution_count": 68
        }
      ]
    },
    {
      "cell_type": "code",
      "source": [
        "importances = rfc.feature_importances_\n",
        "importances"
      ],
      "metadata": {
        "colab": {
          "base_uri": "https://localhost:8080/"
        },
        "id": "jBFp06fD-Dxi",
        "outputId": "64b5914c-e79f-4b74-bcc0-827d7865c7e7"
      },
      "execution_count": 69,
      "outputs": [
        {
          "output_type": "execute_result",
          "data": {
            "text/plain": [
              "array([0.018074  , 0.01618109, 0.01764432, 0.01015443, 0.06497407,\n",
              "       0.03530044, 0.00570177, 0.01711083, 0.03618998, 0.02574756,\n",
              "       0.0901833 , 0.02559795, 0.05799174, 0.02094695, 0.00809317,\n",
              "       0.01609185, 0.00843992, 0.00183347, 0.01976843, 0.05287619,\n",
              "       0.0205582 , 0.01293478, 0.01277829, 0.0178462 , 0.01789457,\n",
              "       0.01062738, 0.0171065 , 0.00596713, 0.03514672, 0.01218404,\n",
              "       0.00361094, 0.04584995, 0.04390677, 0.03165989, 0.06134469,\n",
              "       0.1016825 ])"
            ]
          },
          "metadata": {},
          "execution_count": 69
        }
      ]
    },
    {
      "cell_type": "code",
      "source": [
        "indices = np.argsort(importances)[::-1]\n",
        "indices"
      ],
      "metadata": {
        "colab": {
          "base_uri": "https://localhost:8080/"
        },
        "id": "Ub7s6iOl_fwN",
        "outputId": "15a8ba96-da12-4b96-81fa-4a1d30acff09"
      },
      "execution_count": 70,
      "outputs": [
        {
          "output_type": "execute_result",
          "data": {
            "text/plain": [
              "array([35, 10,  4, 34, 12, 19, 31, 32,  8,  5, 28, 33,  9, 11, 13, 20, 18,\n",
              "        0, 24, 23,  2,  7, 26,  1, 15, 21, 22, 29, 25,  3, 16, 14, 27,  6,\n",
              "       30, 17])"
            ]
          },
          "metadata": {},
          "execution_count": 70
        }
      ]
    },
    {
      "cell_type": "code",
      "source": [
        "plt.figure(figsize=(15, 7))\n",
        "plt.bar(range(len(X_train.columns)), importances[indices])\n",
        "plt.xticks(range(len(X_train.columns)),names[indices], rotation = 90 )\n",
        "plt.show()"
      ],
      "metadata": {
        "colab": {
          "base_uri": "https://localhost:8080/",
          "height": 611
        },
        "id": "TAFeuLlR_hUb",
        "outputId": "50f7c628-fe3b-43c1-feb6-fe34af480218"
      },
      "execution_count": 71,
      "outputs": [
        {
          "output_type": "display_data",
          "data": {
            "text/plain": [
              "<Figure size 1080x504 with 1 Axes>"
            ],
            "image/png": "[encoded data removed]"
          },
          "metadata": {
            "needs_background": "light"
          }
        }
      ]
    },
    {
      "cell_type": "code",
      "source": [],
      "metadata": {
        "id": "pjqpOCw0_lYx"
      },
      "execution_count": null,
      "outputs": []
    },
    {
      "cell_type": "code",
      "source": [
        "from sklearn.model_selection import GridSearchCV"
      ],
      "metadata": {
        "id": "82SoQ5MzFXl4"
      },
      "execution_count": 82,
      "outputs": []
    },
    {
      "cell_type": "code",
      "source": [
        "params = {\n",
        "    'max_depth' :[5, 7, 10],\n",
        "    'n_estimators': [100,200, 300, 500],\n",
        "    'max_features' : [10, 12, 15]\n",
        "}"
      ],
      "metadata": {
        "id": "dnWzjN8jFrAI"
      },
      "execution_count": 83,
      "outputs": []
    },
    {
      "cell_type": "code",
      "source": [
        "grid = GridSearchCV(rfc, param_grid=params, scoring='accuracy', cv=3, return_train_score=True, n_jobs=-1)"
      ],
      "metadata": {
        "id": "UnKn3pzTFXjs"
      },
      "execution_count": 84,
      "outputs": []
    },
    {
      "cell_type": "code",
      "source": [
        "grid.fit(X_sm, y_sm)"
      ],
      "metadata": {
        "colab": {
          "base_uri": "https://localhost:8080/"
        },
        "id": "H6o-lOlHGSUl",
        "outputId": "79636d1b-bf95-4410-ce30-9a5d998daa84"
      },
      "execution_count": 85,
      "outputs": [
        {
          "output_type": "stream",
          "name": "stderr",
          "text": [
            "/usr/local/lib/python3.8/dist-packages/sklearn/model_selection/_search.py:926: DataConversionWarning: A column-vector y was passed when a 1d array was expected. Please change the shape of y to (n_samples,), for example using ravel().\n",
            "  self.best_estimator_.fit(X, y, **fit_params)\n"
          ]
        },
        {
          "output_type": "execute_result",
          "data": {
            "text/plain": [
              "GridSearchCV(cv=3,\n",
              "             estimator=RandomForestClassifier(ccp_alpha=0.001, max_depth=7,\n",
              "                                              n_estimators=300),\n",
              "             n_jobs=-1,\n",
              "             param_grid={'max_depth': [5, 7, 10], 'max_features': [10, 12, 15],\n",
              "                         'n_estimators': [100, 200, 300, 500]},\n",
              "             return_train_score=True, scoring='accuracy')"
            ]
          },
          "metadata": {},
          "execution_count": 85
        }
      ]
    },
    {
      "cell_type": "code",
      "source": [
        "grid.best_score_"
      ],
      "metadata": {
        "colab": {
          "base_uri": "https://localhost:8080/"
        },
        "id": "YQ2kpXUKGZWH",
        "outputId": "67edae2d-1174-48c3-f9da-817beb1d84e3"
      },
      "execution_count": 87,
      "outputs": [
        {
          "output_type": "execute_result",
          "data": {
            "text/plain": [
              "0.8966450216450217"
            ]
          },
          "metadata": {},
          "execution_count": 87
        }
      ]
    },
    {
      "cell_type": "code",
      "source": [
        "grid.best_params_"
      ],
      "metadata": {
        "colab": {
          "base_uri": "https://localhost:8080/"
        },
        "id": "a3XuwrwVG4V9",
        "outputId": "6f268f94-5efb-478a-9f2e-5cec8ba6e9ea"
      },
      "execution_count": 88,
      "outputs": [
        {
          "output_type": "execute_result",
          "data": {
            "text/plain": [
              "{'max_depth': 10, 'max_features': 10, 'n_estimators': 200}"
            ]
          },
          "metadata": {},
          "execution_count": 88
        }
      ]
    },
    {
      "cell_type": "code",
      "source": [
        "best_model = grid.best_estimator_\n",
        "best_model"
      ],
      "metadata": {
        "colab": {
          "base_uri": "https://localhost:8080/"
        },
        "id": "xowokE9bHA_b",
        "outputId": "4e4e7102-34f3-4353-ee4f-87a06e1e4c78"
      },
      "execution_count": 89,
      "outputs": [
        {
          "output_type": "execute_result",
          "data": {
            "text/plain": [
              "RandomForestClassifier(ccp_alpha=0.001, max_depth=10, max_features=10,\n",
              "                       n_estimators=200)"
            ]
          },
          "metadata": {},
          "execution_count": 89
        }
      ]
    },
    {
      "cell_type": "code",
      "source": [],
      "metadata": {
        "id": "H3pU7u8hHIiB"
      },
      "execution_count": null,
      "outputs": []
    }
  ]
}