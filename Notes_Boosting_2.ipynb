{
  "nbformat": 4,
  "nbformat_minor": 0,
  "metadata": {
    "colab": {
      "provenance": [],
      "toc_visible": true
    },
    "kernelspec": {
      "name": "python3",
      "display_name": "Python 3"
    },
    "language_info": {
      "name": "python"
    }
  },
  "cells": [
    {
      "cell_type": "markdown",
      "source": [
        "## Content\n",
        "\n",
        "- **Overfitting-Underfit trade off**\n",
        "    - Stochastic Gradient Boosting\n",
        "    - Train time\n",
        "    - Impact of outliers\n",
        "    - Code walkthrough\n",
        "    - Feature importance\n",
        "\n",
        "- **XGBoost**\n",
        "    - Hyperparams\n",
        "    - Code walkthrough"
      ],
      "metadata": {
        "id": "DwsnWkFAB3Ts"
      }
    },
    {
      "cell_type": "markdown",
      "metadata": {
        "id": "TWx0suhpY-JD"
      },
      "source": [
        "# **Overfitting-Underfitting Trade-off**\n",
        "\n",
        "\n",
        "#### How can we Regularize the GBDT model?"
      ]
    },
    {
      "cell_type": "markdown",
      "metadata": {
        "id": "bYeoxBouZNjz"
      },
      "source": [
        "\n",
        "\n",
        "\n",
        "Let's see what are the hyperparams in GBDT \n",
        "\n",
        "#### 1. $M$ - The number of base learners\n",
        "\n",
        "#### What will happen if M increases? \n",
        "As number of base learners increase, it is more likely that train error will go to 0. \n",
        "\n",
        "Hence, the model will overfit.\n",
        "\n",
        "**As $M$ increases, the model will overfit**\n",
        "\n",
        "<br>\n"
      ]
    },
    {
      "cell_type": "markdown",
      "metadata": {
        "id": "SVfhMWYXl1UB"
      },
      "source": [
        "\n",
        "\n",
        "<img src='https://drive.google.com/uc?id=1OehWNYBxUvBszDv8-VGFKaS4aefZbVZH' >"
      ]
    },
    {
      "cell_type": "markdown",
      "metadata": {
        "id": "7ChofVKLRFsM"
      },
      "source": [
        "\n",
        "####2. The depth of base learners \n",
        "\n",
        "#### What will happen if depth increases?\n",
        "\n",
        "As depth increases,model will overfit\n",
        "\n",
        "**How?**\n",
        "\n",
        "Let's say we have deep DT for base learners i.e. overfit models.\n",
        "\n",
        "- In that case, Within 4 or 5 models, we'll crazily overfit to noise. \n",
        "\n",
        "Hence, we don't use deep DT as base learners\n",
        "\n",
        "\n",
        "\n"
      ]
    },
    {
      "cell_type": "markdown",
      "metadata": {
        "id": "bHkavGD3QwM-"
      },
      "source": [
        "<img src='https://drive.google.com/uc?id=1xD61beXeLiAi_5i4dY7M6Gfx_LjHSwfP' >\n"
      ]
    },
    {
      "cell_type": "markdown",
      "metadata": {
        "id": "LWyjr5YYjs9f"
      },
      "source": [
        "With great power comes great risk \n",
        "\n",
        "The biggest risk of GBDT is \n",
        "- it can overfit easily if we are not careful\n",
        "\n",
        "So, in order to avoid that, we introduce another level of regularization \n",
        "\n"
      ]
    },
    {
      "cell_type": "markdown",
      "metadata": {
        "id": "qP7MyxlUmOD6"
      },
      "source": [
        "<img src='https://drive.google.com/uc?id=1CSNOZVJYp3NyRSjMTxeMj06Quve82fD9' >\n",
        "\n"
      ]
    },
    {
      "cell_type": "markdown",
      "metadata": {
        "id": "zrLgHI3rSp7b"
      },
      "source": [
        "#### 3. Shrinkage or Learning rate ($\\nu$)\n",
        "\n",
        "\n",
        "We add a regularization term $𝜈$\n",
        "to the model $F_m(x)$ s.t. \n",
        " * $F_m(x) = F_{m-1}(x) +\\sum_{i=1}^m𝜈\\ γ_mh_m(x)$ \n",
        "\n",
        "\n",
        "\n",
        "<br>\n",
        "\n",
        "#### What will be the value of ν (nu)?\n",
        "This 𝜈 always lies between 0 and 1\n",
        "\n",
        "<br>\n",
        "\n",
        "#### What is ν doing intuitively? \n",
        "Intuitively, ν is shrinking the impact of $m^{th}$ model so that models don't overfit easily\n",
        "\n",
        "Think of it as an addition lever to control the overfit.\n",
        "\n",
        "<br>\n",
        "\n",
        "So, we can say that,\n",
        "\n",
        "**as ν increases, chances of model overfitting increases**\n",
        "\n",
        "\n",
        "\n",
        "Note: We have **same 𝜈 for all models in GBDT**\n",
        "\n"
      ]
    },
    {
      "cell_type": "markdown",
      "metadata": {
        "id": "8HUckhJlmXAZ"
      },
      "source": [
        "<img src='https://drive.google.com/uc?id=1zTQ_3nJ8nWZgUzCVTjJuAUoY_uQ-qY_N' >\n",
        "\n"
      ]
    },
    {
      "cell_type": "markdown",
      "metadata": {
        "id": "rUj8eJfKmgDo"
      },
      "source": [
        "#### Question: What should be done to $M$ if 𝜈 is decreased to keep the performance same?\n",
        "\n",
        "Number of **base learners should be increased** because as we are decresing 𝜈, \n",
        "- we are restricting base learners contribution \n",
        "- due to which the error increases \n",
        "\n",
        "\n",
        "We use 𝜈 even when the $γ$ is there to avoid overfit, as there are high chances of overfitting"
      ]
    },
    {
      "cell_type": "markdown",
      "metadata": {
        "id": "Kl17Us5ioDQy"
      },
      "source": [
        "## **Question: Can we add a regulariser to (gamma weights) γ?**\n",
        "\n",
        "Yes we can add regularisation to vector $γ$ whixh is \n",
        "$γ$=[$γ_1,γ_2,γ_3....γ_M$]\n",
        "\n",
        "\n",
        "\n",
        "We can even add other terms controlling the number of leaf nodes which also becomes hyper parameter\n",
        "\n",
        "\n",
        "\n"
      ]
    },
    {
      "cell_type": "markdown",
      "metadata": {
        "id": "3OxoWxektIwm"
      },
      "source": [
        "\n",
        "\n",
        "<img src='https://drive.google.com/uc?id=1EtZi-SVT7_ARPEuI2cxJ1QNOAQl0GVYJ' >"
      ]
    },
    {
      "cell_type": "markdown",
      "metadata": {
        "id": "Ha-3rVJ-tP3a"
      },
      "source": [
        "# **Stochastic Gradient Boosting** "
      ]
    },
    {
      "cell_type": "markdown",
      "metadata": {
        "id": "A57y8oZgu0PF"
      },
      "source": [
        "#### What if we add randomization to GBDT ? \n",
        "\n",
        "This is what Stochastic Gradient boosting does.\n",
        "\n",
        "The stochhastic gradient boosting follow the same framework as GBDT and\n",
        "\n",
        "- **it also does row sampling and column sampling**\n",
        "\n",
        "This **randomisation acts as regularisation** here.\n",
        "\n",
        "Popular libraries such as Xgboost, LightGBM (discussed later) use this approach.\n"
      ]
    },
    {
      "cell_type": "markdown",
      "metadata": {
        "id": "cGQR2nNAvx4F"
      },
      "source": [
        "\n",
        "\n",
        "<img src='https://drive.google.com/uc?id=1b0t8tmqt6ksDPEK2Uqe-Q01IXUFPmSfC' >"
      ]
    },
    {
      "cell_type": "markdown",
      "metadata": {
        "id": "taXLTMrtv-jB"
      },
      "source": [
        "## **Train time**"
      ]
    },
    {
      "cell_type": "markdown",
      "metadata": {
        "id": "jaA33tW3yqWJ"
      },
      "source": [
        "GBDT is the sequential model, Hence it is slow to train\n",
        "\n",
        "#### How can we speed up GBDT?\n",
        "\n",
        "* Row sampling and column sampling can speed up the model a little\n",
        "* While building each base leraners we can apply **parallelisation**, i.e one sub-tree can be built on a core and the other sub-tree can be built on another core\n",
        "* Even for bulding a single tree, **we have to calculate entropy of many features, this can be parallelised**"
      ]
    },
    {
      "cell_type": "markdown",
      "metadata": {
        "id": "U_VqvCCl0mW9"
      },
      "source": [
        "\n",
        "\n",
        "\n",
        "\n",
        "<img src='https://drive.google.com/uc?id=12V2N2vzcO9mBSj40dWX_xqv_5QezuJYK' >"
      ]
    },
    {
      "cell_type": "code",
      "execution_count": null,
      "metadata": {
        "colab": {
          "background_save": true
        },
        "id": "ltSVMVdZTjcY"
      },
      "outputs": [],
      "source": []
    },
    {
      "cell_type": "code",
      "execution_count": null,
      "metadata": {
        "colab": {
          "background_save": true
        },
        "id": "gOoX8XN2TjZb"
      },
      "outputs": [],
      "source": []
    },
    {
      "cell_type": "code",
      "execution_count": null,
      "metadata": {
        "colab": {
          "background_save": true
        },
        "id": "wQvWfoMCTjUA"
      },
      "outputs": [],
      "source": []
    },
    {
      "cell_type": "code",
      "execution_count": null,
      "metadata": {
        "colab": {
          "background_save": true
        },
        "id": "HEUnb3OdTjOo"
      },
      "outputs": [],
      "source": []
    },
    {
      "cell_type": "markdown",
      "metadata": {
        "id": "qBqvnZRr0k1s"
      },
      "source": [
        "# **Impact of outliers** \n",
        "\n",
        "#### Question: Will outliers impact GBDT?\n",
        "\n",
        "Outliers can impact GBDT\n",
        "\n",
        "- Each model is fit on the residual of the previous model\n",
        "- Outliers will have higher residual values\n",
        "- So, so gradient boosting will focus a large amount of its attention on reducing residual for these points.\n",
        "\n",
        "#### Question: How to handle outliers?\n",
        "1. Remove outliers\n",
        "2. Specialized loss functions to handle outliers\n",
        "\n"
      ]
    },
    {
      "cell_type": "markdown",
      "metadata": {
        "id": "ow9M5e0tY3MC"
      },
      "source": [
        "Let us consider squared-loss which is $∑_{i=1}^n(y_i - ŷ_i)^2$\n",
        "\n",
        "Here, if there is an outlier the error increases quadratically because of squaring\n",
        "    \n",
        "\n"
      ]
    },
    {
      "cell_type": "markdown",
      "metadata": {
        "id": "k7kIv4VAcP4y"
      },
      "source": [
        "\n",
        "\n",
        "\n",
        "<img src='https://drive.google.com/uc?id=1eWKV9YbLFQYGQCuSR_FGHANPDw68L84D' >"
      ]
    },
    {
      "cell_type": "markdown",
      "metadata": {
        "id": "0KViQydjca86"
      },
      "source": [
        "\n",
        "##### What changes can we make in the loss function so that the model be robust to outliers?\n",
        "\n",
        "* We can use **Root mean squared error**\n",
        "* We can use absolute values of the error \n",
        "\n"
      ]
    },
    {
      "cell_type": "markdown",
      "metadata": {
        "id": "MuawTwrpeY0r"
      },
      "source": [
        "\n",
        "\n",
        "<img src='https://drive.google.com/uc?id=1QrUznldwhmGMthsMG-mmuz7L89zXS9FC' >"
      ]
    },
    {
      "cell_type": "markdown",
      "metadata": {
        "id": "pzNXtSwgHYeX"
      },
      "source": [
        "#### Question: abs function is not differentiable at 0; how to handle that?\n",
        "   * As, already the error is 0, we simply use derivative of abs function @0 = 0 (computational hack)\n",
        "\n",
        "Huber loss can also be used.\n",
        " * This function be quadratic in some areas and linear in some\n",
        "   * As mentioned in the formuala, it uses the quadratic function in some range and liinear in the other range of values"
      ]
    },
    {
      "cell_type": "markdown",
      "metadata": {
        "id": "krsWIaONee2V"
      },
      "source": [
        "<img src='https://drive.google.com/uc?id=1ryIZnNANcX_a2nQjeWvwibEaoQz1CMOn' >\n",
        "\n"
      ]
    },
    {
      "cell_type": "markdown",
      "metadata": {
        "id": "uvplWXmGenbb"
      },
      "source": [
        "<img src='https://drive.google.com/uc?id=1-fA_MyJbXQbwq1yBygn0109CljpZD0VZ' >\n",
        "\n"
      ]
    },
    {
      "cell_type": "markdown",
      "metadata": {
        "id": "wat_HfJdHjCb"
      },
      "source": [
        "\n",
        "\n",
        "<img src='https://drive.google.com/uc?id=1menZJ9cL_62wkbz-zD8W4uFbFJY5GgRk' >\n"
      ]
    },
    {
      "cell_type": "markdown",
      "metadata": {
        "id": "1IFtMhjbkHW3"
      },
      "source": [
        "\n",
        "### Code walkthrough\n"
      ]
    },
    {
      "cell_type": "markdown",
      "metadata": {
        "id": "HR5WW-zmkLOZ"
      },
      "source": [
        "Let's look at sklearn implementation for GBDT"
      ]
    },
    {
      "cell_type": "code",
      "execution_count": null,
      "metadata": {
        "colab": {
          "base_uri": "https://localhost:8080/"
        },
        "id": "1b1KA2MqkKj3",
        "outputId": "2ce2a5f3-0895-4e3c-b18b-dd00d11f6e1a"
      },
      "outputs": [
        {
          "output_type": "stream",
          "name": "stdout",
          "text": [
            "      Iter       Train Loss   Remaining Time \n",
            "         1           1.0121            3.63m\n",
            "         2           0.7894            3.68m\n",
            "         3           0.6437            3.67m\n",
            "         4           0.5359            3.64m\n",
            "         5           0.4574            3.64m\n",
            "         6           0.3971            3.61m\n",
            "         7           0.3476            3.59m\n",
            "         8           0.3052            3.63m\n",
            "         9           0.2735            4.03m\n",
            "        10           0.2465            3.95m\n",
            "        20           0.1315            3.46m\n",
            "        30           0.0882            3.13m\n",
            "        40           0.0632            2.84m\n",
            "        50           0.0486            2.57m\n",
            "        60           0.0380            2.33m\n",
            "        70           0.0299            2.06m\n",
            "        80           0.0238            1.80m\n",
            "        90           0.0194            1.52m\n",
            "       100           0.0156            1.25m\n",
            "Time taken for training : 0:03:36.244311\n",
            "Training accuracy:1.0\n",
            "Test Accuracy: 0.9553639360892722\n"
          ]
        }
      ],
      "source": [
        "from sklearn.ensemble import GradientBoostingClassifier as GBC\n",
        "\n",
        "start = dt.datetime.now()\n",
        "model3 = GBC(n_estimators=150, learning_rate=0.2, max_depth=4, random_state=0, verbose = 1).fit(X_train, Y_train)\n",
        "end = dt.datetime.now()\n",
        "\n",
        "print(f\"Time taken for training : {end - start}\\nTraining accuracy:{model3.score(X_train, Y_train)}\\nTest Accuracy: {model3.score(X_test, Y_test)}\")"
      ]
    },
    {
      "cell_type": "markdown",
      "metadata": {
        "id": "DS29SdpmmmEE"
      },
      "source": [
        "#### Plotting loss"
      ]
    },
    {
      "cell_type": "code",
      "execution_count": null,
      "metadata": {
        "id": "SxUJF25HmRx_",
        "colab": {
          "base_uri": "https://localhost:8080/",
          "height": 295
        },
        "outputId": "ab1ed505-ea79-4ffd-ced8-7f638e99b480"
      },
      "outputs": [
        {
          "output_type": "display_data",
          "data": {
            "text/plain": [
              "<Figure size 432x288 with 1 Axes>"
            ],
            "image/png": "[encoded data removed]"
          },
          "metadata": {
            "needs_background": "light"
          }
        }
      ],
      "source": [
        "plt.plot(model3.train_score_)\n",
        "\n",
        "plt.xlabel('Iter')\n",
        "plt.ylabel('loss')\n",
        "plt.title('Iter vs loss')\n",
        "plt.show()"
      ]
    },
    {
      "cell_type": "markdown",
      "metadata": {
        "id": "rhx6tu0Fs1vD"
      },
      "source": [
        "# **Feature Importance**\n",
        "\n",
        "#### How do we find feature importance in GBDT ? "
      ]
    },
    {
      "cell_type": "markdown",
      "metadata": {
        "id": "IkgJx7ePwgHS"
      },
      "source": [
        "We simply find the feature importance of feature in each tree and \n",
        "- then take the average of these values to get over-all feature importance.\n"
      ]
    },
    {
      "cell_type": "markdown",
      "metadata": {
        "id": "yoHHWmNvxGXL"
      },
      "source": [
        "\n",
        "<img src='https://drive.google.com/uc?id=1NW-6jIIU55duZGJGzEIUk5P-8QZ3DZ-m' width = 600 >\n"
      ]
    },
    {
      "cell_type": "markdown",
      "metadata": {
        "id": "FHbO_74uyf3p"
      },
      "source": [
        "#### Code walkthrough"
      ]
    },
    {
      "cell_type": "code",
      "execution_count": null,
      "metadata": {
        "id": "IuQ_R554x4HC"
      },
      "outputs": [],
      "source": [
        "print(model3.feature_importances_)\n",
        "\n",
        "plt.bar(range(len(model3.feature_importances_)), model3.feature_importances_)\n",
        "plt.show()"
      ]
    },
    {
      "cell_type": "markdown",
      "metadata": {
        "id": "PnrIE_4-kfIM"
      },
      "source": [
        "Notice,\n",
        "- It took around 4 min to train a single model\n",
        "- Imagine how much time it'll take if we do hyperparam tuning on it.\n",
        "\n",
        "Sklearn's implemenation of GBDT is not optimized and hence not preferred.\n",
        "\n",
        "**So, what library do we use then?**"
      ]
    },
    {
      "cell_type": "code",
      "execution_count": null,
      "metadata": {
        "id": "kLmzSefbbir2"
      },
      "outputs": [],
      "source": []
    },
    {
      "cell_type": "code",
      "execution_count": null,
      "metadata": {
        "id": "_VMxtJrTbipW"
      },
      "outputs": [],
      "source": []
    },
    {
      "cell_type": "code",
      "execution_count": null,
      "metadata": {
        "id": "cqJbPs7obinA"
      },
      "outputs": [],
      "source": []
    },
    {
      "cell_type": "markdown",
      "metadata": {
        "id": "4Pe4czVs1kVS"
      },
      "source": [
        "# **Xgboost**\n",
        "\n",
        "XGBoost is one the popular library known for its well optimized code\n",
        "\n",
        "For example : \n",
        "\n",
        "- if you have numerical feature $f_i$, \n",
        "    - instead of tryinig all the values for thresholding, \n",
        "    - it build a histogram of data and use simple rules like quartiles and percentiles to make thresholding.\n",
        "\n",
        "- It also does multi core optimization (parallelization)\n",
        "    - it'll compute each branch of a base learner on different core to speed up the process."
      ]
    },
    {
      "cell_type": "markdown",
      "metadata": {
        "id": "pGdVVzudUx0K"
      },
      "source": [
        "### **Xgboost hyperparams**"
      ]
    },
    {
      "cell_type": "markdown",
      "metadata": {
        "id": "bHwaJ4RCU2HS"
      },
      "source": [
        "1. **Eta**: or the learning rate is the shrinking/regularization term which we studier earlier \n",
        "\n",
        "2. **min_split_loss** specify the minimum Information Gain which you want for further split. \n",
        "\n",
        "#### Question: What happens if min_split_loss increases?\n",
        "If the min_split_loss value of the model is increased, \n",
        "- the splitting stops if the min_split_loss is not met. \n",
        "    \n",
        "Due to this the depth decreases resulting in shallow tress.\n",
        "\n",
        "Hence,results in the underfitting of the model.\n",
        "\n",
        "\n",
        "3. **max_depth**, this parameter is used to set the depth of the base learners  \n",
        "\n",
        "\n"
      ]
    },
    {
      "cell_type": "markdown",
      "metadata": {
        "id": "OShdCyR2XCbt"
      },
      "source": [
        "4. **min_child_weight**: you can increase the weight of the child due to which the splitting stops if the required threshold is not met"
      ]
    },
    {
      "cell_type": "markdown",
      "metadata": {
        "id": "1X8kzQ0UX8-7"
      },
      "source": [
        "5. **subsample**. it's nothing but the row sampling \n",
        " * There are many ways of sampling, same with column sampling"
      ]
    },
    {
      "cell_type": "markdown",
      "metadata": {
        "id": "l0n-UauKYoym"
      },
      "source": [
        "6. **Lambda**, it is the used apply the L2 regularization on the weights, which is $γ$ in our case \n",
        "\n",
        "7. **Tree_methods**, there are many ways to build a tree, we can specify the method basing on the conditions "
      ]
    },
    {
      "cell_type": "markdown",
      "metadata": {
        "id": "ckHd2kWIXFH0"
      },
      "source": [
        "\n",
        "\n",
        "\n",
        "<img src='https://drive.google.com/uc?id=1tvyj1KYedvVhaeIJIAh_ZillGmf5p5rE' >"
      ]
    },
    {
      "cell_type": "markdown",
      "metadata": {
        "id": "YjHHBAPwXizX"
      },
      "source": [
        "\n",
        "\n",
        "<img src='https://drive.google.com/uc?id=1k_JD_dg0las0-N03UWQ_jSzkIP1M-b9W' >"
      ]
    },
    {
      "cell_type": "markdown",
      "metadata": {
        "id": "ZUoUNjITZFFv"
      },
      "source": [
        "\n",
        "\n",
        "<img src='https://drive.google.com/uc?id=1Vvz_rxFrx0EAgwClXn8OFwkhZ_5eD9C0' >"
      ]
    },
    {
      "cell_type": "markdown",
      "metadata": {
        "id": "u2S8tbitZzTU"
      },
      "source": [
        "#### What are most used hyperparams?\n",
        "\n",
        "- Number of estimators (M)\n",
        "- Depth\n",
        "- ν : learning rate\n",
        "- Col sampling/ row sampling \n"
      ]
    },
    {
      "cell_type": "markdown",
      "metadata": {
        "id": "3qGNJ2_pacN7"
      },
      "source": [
        "\n",
        "\n",
        "<img src='https://drive.google.com/uc?id=1n0JuWHd8NerqKnYnWFQqIwKeNuJG7PUr' >"
      ]
    },
    {
      "cell_type": "markdown",
      "metadata": {
        "id": "dvsDq-PSfS29"
      },
      "source": [
        "### Code walkthrough"
      ]
    },
    {
      "cell_type": "code",
      "execution_count": null,
      "metadata": {
        "id": "HiwuBmp0fUqI"
      },
      "outputs": [],
      "source": [
        "\n",
        "from xgboost import XGBClassifier\n",
        "from sklearn.model_selection import RandomizedSearchCV, GridSearchCV\n",
        "from sklearn.model_selection import StratifiedKFold\n",
        "\n",
        "import datetime as dt\n",
        "\n",
        "params = {\n",
        "        'learning_rate': [0.1, 0.5, 0.8],\n",
        "        'subsample': [0.6, 0.8, 1.0],\n",
        "        'colsample_bytree': [0.6, 0.8, 1.0],\n",
        "        'max_depth': [3, 4, 5]\n",
        "        }\n",
        "xgb = XGBClassifier(n_estimators=100, objective='multi:softmax', num_class=20, silent=True)\n",
        "\n",
        "\n"
      ]
    },
    {
      "cell_type": "code",
      "execution_count": null,
      "metadata": {
        "id": "isosAJtbfZr7"
      },
      "outputs": [],
      "source": [
        "folds = 3\n",
        "\n",
        "skf = StratifiedKFold(n_splits=folds, shuffle = True, random_state = 1001)\n",
        "\n",
        "random_search = RandomizedSearchCV(xgb, param_distributions=params, n_iter=10, scoring='accuracy', n_jobs=4, cv=skf.split(X_train,Y_train), verbose=3, random_state=1001 )\n",
        "\n",
        "\n",
        "start = dt.datetime.now()\n",
        "random_search.fit(X_train, Y_train)\n",
        "end = dt.datetime.now()\n"
      ]
    },
    {
      "cell_type": "code",
      "execution_count": null,
      "metadata": {
        "id": "jxwNTFHdfiJQ"
      },
      "outputs": [],
      "source": [
        "print('\\n Best hyperparameters:')\n",
        "print(random_search.best_params_)"
      ]
    },
    {
      "cell_type": "code",
      "execution_count": null,
      "metadata": {
        "id": "UF4equbhfnZE"
      },
      "outputs": [],
      "source": [
        "best_xgb = XGBClassifier(n_estimators=100, objective='multi:softmax', num_class=20, subsample=0.8, max_depth=5, learning_rate=0.5, colsample_bytree=1.0, silent=True)\n",
        "best_xgb.fit(X_train, Y_train)"
      ]
    },
    {
      "cell_type": "code",
      "execution_count": null,
      "metadata": {
        "id": "fyAGwdadfsr-"
      },
      "outputs": [],
      "source": [
        "print(f\"Time taken for training : {end - start}\\nTraining accuracy:{best_xgb.score(X_train, Y_train)}\\nTest Accuracy: {best_xgb.score(X_test, Y_test)}\")"
      ]
    },
    {
      "cell_type": "markdown",
      "metadata": {
        "id": "QFPM3x6NlX-7"
      },
      "source": [
        "Since we are using randomized Search\n",
        "- we made total of 30 fits \n",
        "    - total 10 combination of hyperparam\n",
        "    - 3 fold cv for each combination\n",
        "\n",
        "All these 30 fits took mere 5 mins to run compared to 4 mins for single fit of sklearn GBDT.\n",
        "\n",
        "**Do you now see how fast it is compared to sklearn implementation?**"
      ]
    },
    {
      "cell_type": "markdown",
      "metadata": {
        "id": "lyAhXx1cytvk"
      },
      "source": [
        "#### Feature importance"
      ]
    },
    {
      "cell_type": "code",
      "execution_count": null,
      "metadata": {
        "id": "d2v-sFCtyvXe"
      },
      "outputs": [],
      "source": [
        "print(best_xgb.feature_importances_)\n",
        "\n",
        "plt.bar(range(len(best_xgb.feature_importances_)), best_xgb.feature_importances_)\n",
        "plt.show()"
      ]
    }
  ]
}